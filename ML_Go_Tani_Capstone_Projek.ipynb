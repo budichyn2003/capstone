{
  "cells": [
    {
      "cell_type": "markdown",
      "metadata": {
        "id": "tgGkOEJGkIU1"
      },
      "source": [
        "**SISTEM REKOMENDASI GO TANI**\n",
        "\n",
        "---\n",
        "\n",
        "\n",
        "\n",
        "---\n",
        "\n"
      ]
    },
    {
      "cell_type": "markdown",
      "metadata": {
        "id": "ae1M9qucSY2u"
      },
      "source": []
    },
    {
      "cell_type": "markdown",
      "metadata": {
        "id": "dPRCT4tSkGKa"
      },
      "source": [
        "Sistem rekomendasi adalah sistem pembelajaran mesin yang di terapkan pada aplikasi GO-TANI yang digunakan guna membantu para ibu ibu rumah tangga di indonesia untuk memilih sayur sayuran yang segar dan sehat untuk di konsumsi setiap hari guna mewujudkan indonesia sehat di masa mendatang\n",
        "\n"
      ]
    },
    {
      "cell_type": "markdown",
      "metadata": {
        "id": "X4DQI50yl5wB"
      },
      "source": [
        "**METODE REKOMENDASI YANG DI GUNAKAN**\n",
        "\n",
        "---\n",
        "\n",
        "\n",
        "\n"
      ]
    },
    {
      "cell_type": "markdown",
      "metadata": {
        "id": "2JIII65gmKWc"
      },
      "source": [
        "Jelaskan metode atau gambaran go tani"
      ]
    },
    {
      "cell_type": "markdown",
      "metadata": {
        "id": "x4Occ-0-mQeM"
      },
      "source": [
        "**MODEL YANG DI GUNAKAN**\n",
        "\n",
        "---\n",
        "\n",
        "\n",
        "\n",
        "\n"
      ]
    },
    {
      "cell_type": "markdown",
      "metadata": {
        "id": "DlzQs7GQnC0s"
      },
      "source": [
        "jelaskan model yg di gunakan, apa alasan memilih model tsb"
      ]
    },
    {
      "cell_type": "code",
      "execution_count": null,
      "metadata": {
        "id": "_dBX1dHI28MW"
      },
      "outputs": [],
      "source": [
        "Singular Value Decomposition (SVD)\n",
        "untuk sistem rekomendasi berbasis model kita akan emnggunakan library yang di sebut suprise dan kita akan menggunakan SVD sebagai metode faktorisasi matriks"
      ]
    },
    {
      "cell_type": "markdown",
      "metadata": {
        "id": "R1QlwkvmnYnm"
      },
      "source": [
        "1. Import Librray yang kita butuhin guys"
      ]
    },
    {
      "cell_type": "code",
      "execution_count": null,
      "metadata": {
        "colab": {
          "base_uri": "https://localhost:8080/"
        },
        "id": "LbehLD_7nITB",
        "outputId": "955d0995-8040-4504-b303-ec0fff5414b6"
      },
      "outputs": [
        {
          "name": "stdout",
          "output_type": "stream",
          "text": [
            "Collecting surprise\n",
            "  Downloading surprise-0.1-py2.py3-none-any.whl (1.8 kB)\n",
            "Collecting scikit-surprise (from surprise)\n",
            "  Downloading scikit-surprise-1.1.3.tar.gz (771 kB)\n",
            "\u001b[2K     \u001b[90m━━━━━━━━━━━━━━━━━━━━━━━━━━━━━━━━━━━━━━━━\u001b[0m \u001b[32m772.0/772.0 kB\u001b[0m \u001b[31m6.7 MB/s\u001b[0m eta \u001b[36m0:00:00\u001b[0m\n",
            "\u001b[?25h  Preparing metadata (setup.py) ... \u001b[?25l\u001b[?25hdone\n",
            "Requirement already satisfied: joblib>=1.0.0 in /usr/local/lib/python3.10/dist-packages (from scikit-surprise->surprise) (1.3.2)\n",
            "Requirement already satisfied: numpy>=1.17.3 in /usr/local/lib/python3.10/dist-packages (from scikit-surprise->surprise) (1.23.5)\n",
            "Requirement already satisfied: scipy>=1.3.2 in /usr/local/lib/python3.10/dist-packages (from scikit-surprise->surprise) (1.11.4)\n",
            "Building wheels for collected packages: scikit-surprise\n"
          ]
        }
      ],
      "source": [
        "pip install surprise"
      ]
    },
    {
      "cell_type": "code",
      "execution_count": null,
      "metadata": {
        "colab": {
          "background_save": true
        },
        "id": "8J-J_NvxzdGb"
      },
      "outputs": [],
      "source": [
        "import pandas as pd\n",
        "import tensorflow as tf\n",
        "from tensorflow.keras.models import load_model\n",
        "from pandas import ExcelFile\n",
        "from pathlib import Path\n",
        "from surprise import Reader, Dataset, SVD\n",
        "from surprise.model_selection import cross_validate"
      ]
    },
    {
      "cell_type": "markdown",
      "metadata": {
        "id": "ms7ZmQXV06nl"
      },
      "source": [
        "2. load dataset"
      ]
    },
    {
      "cell_type": "markdown",
      "metadata": {
        "id": "2mgOqrCf2usC"
      },
      "source": [
        "dataset dari sini [GO-TANI](https://docs.google.com/spreadsheets/d/1K6lzDwtIRYQ7nhnxbLR7XMJHrLrWSXwjjn99JupICIU/edit?usp=sharing)"
      ]
    },
    {
      "cell_type": "code",
      "execution_count": null,
      "metadata": {
        "colab": {
          "base_uri": "https://localhost:8080/",
          "height": 73
        },
        "id": "8mVnmeev0TBd",
        "outputId": "e2706834-821c-4f85-d46f-9c6a78146044"
      },
      "outputs": [
        {
          "data": {
            "text/html": [
              "\n",
              "     <input type=\"file\" id=\"files-ace10e6d-4014-492b-9f5e-56c1ce8eecc7\" name=\"files[]\" multiple disabled\n",
              "        style=\"border:none\" />\n",
              "     <output id=\"result-ace10e6d-4014-492b-9f5e-56c1ce8eecc7\">\n",
              "      Upload widget is only available when the cell has been executed in the\n",
              "      current browser session. Please rerun this cell to enable.\n",
              "      </output>\n",
              "      <script>// Copyright 2017 Google LLC\n",
              "//\n",
              "// Licensed under the Apache License, Version 2.0 (the \"License\");\n",
              "// you may not use this file except in compliance with the License.\n",
              "// You may obtain a copy of the License at\n",
              "//\n",
              "//      http://www.apache.org/licenses/LICENSE-2.0\n",
              "//\n",
              "// Unless required by applicable law or agreed to in writing, software\n",
              "// distributed under the License is distributed on an \"AS IS\" BASIS,\n",
              "// WITHOUT WARRANTIES OR CONDITIONS OF ANY KIND, either express or implied.\n",
              "// See the License for the specific language governing permissions and\n",
              "// limitations under the License.\n",
              "\n",
              "/**\n",
              " * @fileoverview Helpers for google.colab Python module.\n",
              " */\n",
              "(function(scope) {\n",
              "function span(text, styleAttributes = {}) {\n",
              "  const element = document.createElement('span');\n",
              "  element.textContent = text;\n",
              "  for (const key of Object.keys(styleAttributes)) {\n",
              "    element.style[key] = styleAttributes[key];\n",
              "  }\n",
              "  return element;\n",
              "}\n",
              "\n",
              "// Max number of bytes which will be uploaded at a time.\n",
              "const MAX_PAYLOAD_SIZE = 100 * 1024;\n",
              "\n",
              "function _uploadFiles(inputId, outputId) {\n",
              "  const steps = uploadFilesStep(inputId, outputId);\n",
              "  const outputElement = document.getElementById(outputId);\n",
              "  // Cache steps on the outputElement to make it available for the next call\n",
              "  // to uploadFilesContinue from Python.\n",
              "  outputElement.steps = steps;\n",
              "\n",
              "  return _uploadFilesContinue(outputId);\n",
              "}\n",
              "\n",
              "// This is roughly an async generator (not supported in the browser yet),\n",
              "// where there are multiple asynchronous steps and the Python side is going\n",
              "// to poll for completion of each step.\n",
              "// This uses a Promise to block the python side on completion of each step,\n",
              "// then passes the result of the previous step as the input to the next step.\n",
              "function _uploadFilesContinue(outputId) {\n",
              "  const outputElement = document.getElementById(outputId);\n",
              "  const steps = outputElement.steps;\n",
              "\n",
              "  const next = steps.next(outputElement.lastPromiseValue);\n",
              "  return Promise.resolve(next.value.promise).then((value) => {\n",
              "    // Cache the last promise value to make it available to the next\n",
              "    // step of the generator.\n",
              "    outputElement.lastPromiseValue = value;\n",
              "    return next.value.response;\n",
              "  });\n",
              "}\n",
              "\n",
              "/**\n",
              " * Generator function which is called between each async step of the upload\n",
              " * process.\n",
              " * @param {string} inputId Element ID of the input file picker element.\n",
              " * @param {string} outputId Element ID of the output display.\n",
              " * @return {!Iterable<!Object>} Iterable of next steps.\n",
              " */\n",
              "function* uploadFilesStep(inputId, outputId) {\n",
              "  const inputElement = document.getElementById(inputId);\n",
              "  inputElement.disabled = false;\n",
              "\n",
              "  const outputElement = document.getElementById(outputId);\n",
              "  outputElement.innerHTML = '';\n",
              "\n",
              "  const pickedPromise = new Promise((resolve) => {\n",
              "    inputElement.addEventListener('change', (e) => {\n",
              "      resolve(e.target.files);\n",
              "    });\n",
              "  });\n",
              "\n",
              "  const cancel = document.createElement('button');\n",
              "  inputElement.parentElement.appendChild(cancel);\n",
              "  cancel.textContent = 'Cancel upload';\n",
              "  const cancelPromise = new Promise((resolve) => {\n",
              "    cancel.onclick = () => {\n",
              "      resolve(null);\n",
              "    };\n",
              "  });\n",
              "\n",
              "  // Wait for the user to pick the files.\n",
              "  const files = yield {\n",
              "    promise: Promise.race([pickedPromise, cancelPromise]),\n",
              "    response: {\n",
              "      action: 'starting',\n",
              "    }\n",
              "  };\n",
              "\n",
              "  cancel.remove();\n",
              "\n",
              "  // Disable the input element since further picks are not allowed.\n",
              "  inputElement.disabled = true;\n",
              "\n",
              "  if (!files) {\n",
              "    return {\n",
              "      response: {\n",
              "        action: 'complete',\n",
              "      }\n",
              "    };\n",
              "  }\n",
              "\n",
              "  for (const file of files) {\n",
              "    const li = document.createElement('li');\n",
              "    li.append(span(file.name, {fontWeight: 'bold'}));\n",
              "    li.append(span(\n",
              "        `(${file.type || 'n/a'}) - ${file.size} bytes, ` +\n",
              "        `last modified: ${\n",
              "            file.lastModifiedDate ? file.lastModifiedDate.toLocaleDateString() :\n",
              "                                    'n/a'} - `));\n",
              "    const percent = span('0% done');\n",
              "    li.appendChild(percent);\n",
              "\n",
              "    outputElement.appendChild(li);\n",
              "\n",
              "    const fileDataPromise = new Promise((resolve) => {\n",
              "      const reader = new FileReader();\n",
              "      reader.onload = (e) => {\n",
              "        resolve(e.target.result);\n",
              "      };\n",
              "      reader.readAsArrayBuffer(file);\n",
              "    });\n",
              "    // Wait for the data to be ready.\n",
              "    let fileData = yield {\n",
              "      promise: fileDataPromise,\n",
              "      response: {\n",
              "        action: 'continue',\n",
              "      }\n",
              "    };\n",
              "\n",
              "    // Use a chunked sending to avoid message size limits. See b/62115660.\n",
              "    let position = 0;\n",
              "    do {\n",
              "      const length = Math.min(fileData.byteLength - position, MAX_PAYLOAD_SIZE);\n",
              "      const chunk = new Uint8Array(fileData, position, length);\n",
              "      position += length;\n",
              "\n",
              "      const base64 = btoa(String.fromCharCode.apply(null, chunk));\n",
              "      yield {\n",
              "        response: {\n",
              "          action: 'append',\n",
              "          file: file.name,\n",
              "          data: base64,\n",
              "        },\n",
              "      };\n",
              "\n",
              "      let percentDone = fileData.byteLength === 0 ?\n",
              "          100 :\n",
              "          Math.round((position / fileData.byteLength) * 100);\n",
              "      percent.textContent = `${percentDone}% done`;\n",
              "\n",
              "    } while (position < fileData.byteLength);\n",
              "  }\n",
              "\n",
              "  // All done.\n",
              "  yield {\n",
              "    response: {\n",
              "      action: 'complete',\n",
              "    }\n",
              "  };\n",
              "}\n",
              "\n",
              "scope.google = scope.google || {};\n",
              "scope.google.colab = scope.google.colab || {};\n",
              "scope.google.colab._files = {\n",
              "  _uploadFiles,\n",
              "  _uploadFilesContinue,\n",
              "};\n",
              "})(self);\n",
              "</script> "
            ],
            "text/plain": [
              "<IPython.core.display.HTML object>"
            ]
          },
          "metadata": {},
          "output_type": "display_data"
        },
        {
          "name": "stdout",
          "output_type": "stream",
          "text": [
            "Saving gotani_capstone - Sheet1 (1).csv to gotani_capstone - Sheet1 (1).csv\n"
          ]
        }
      ],
      "source": [
        "import pandas as pd\n",
        "from google.colab import files\n",
        "filenya = files.upload()"
      ]
    },
    {
      "cell_type": "code",
      "execution_count": null,
      "metadata": {
        "colab": {
          "base_uri": "https://localhost:8080/"
        },
        "id": "enFfusp1x2yI",
        "outputId": "a240f4b2-fd4a-43dc-bfb1-d0a93e180a94"
      },
      "outputs": [
        {
          "data": {
            "text/plain": [
              "{'gotani_capstone - Sheet1 (1).csv': b'id_sayur,nama_sayur,rating_peminat\\r\\n1,bayam,5\\r\\n2,brokoli,2\\r\\n3,buncis,4\\r\\n4,caisin,4\\r\\n5,gambas,3\\r\\n6,genjer,5\\r\\n7,jamur,5\\r\\n8,kangkung,4\\r\\n9,kentang,5\\r\\n10,kubis,5\\r\\n11,labu siam,4\\r\\n12,mentimun,3\\r\\n13,nangka,5\\r\\n14,pare,5\\r\\n15,rebung,4\\r\\n16,sawi putih,5\\r\\n17,terong_lalap,2\\r\\n18,terong_sayur,4\\r\\n19,daun singkong,5\\r\\n20,pepaya,5\\r\\n21,rebung,4\\r\\n22,jengkol,5\\r\\n23,petai,5\\r\\n24,tomat,4\\r\\n25,jagung,3\\r\\n26,wortel,5\\r\\n27,kol,4\\r\\n28,kacang panjang,4\\r\\n29,lobak,5\\r\\n30,daun bawang,3\\r\\n31,labu,3\\r\\n32,paprika,3\\r\\n33,kecambah,4\\r\\n34,tauge,5\\r\\n35,acar,5\\r\\n36,daun sop,4\\r\\n37,daun katuk,4\\r\\n38,sawi hijau,5'}"
            ]
          },
          "execution_count": 4,
          "metadata": {},
          "output_type": "execute_result"
        }
      ],
      "source": [
        "filenya"
      ]
    },
    {
      "cell_type": "code",
      "execution_count": null,
      "metadata": {
        "colab": {
          "base_uri": "https://localhost:8080/",
          "height": 883
        },
        "id": "CSWw-3nGx7u4",
        "outputId": "d5f68ac7-5a01-40da-adeb-b79c936e59ef"
      },
      "outputs": [
        {
          "name": "stdout",
          "output_type": "stream",
          "text": [
            "    id_sayur      nama_sayur  rating_peminat\n",
            "0          1           bayam               5\n",
            "1          2         brokoli               2\n",
            "2          3          buncis               4\n",
            "3          4          caisin               4\n",
            "4          5          gambas               3\n",
            "5          6          genjer               5\n",
            "6          7           jamur               5\n",
            "7          8        kangkung               4\n",
            "8          9         kentang               5\n",
            "9         10           kubis               5\n",
            "10        11       labu siam               4\n",
            "11        12        mentimun               3\n",
            "12        13          nangka               5\n",
            "13        14            pare               5\n",
            "14        15          rebung               4\n",
            "15        16      sawi putih               5\n",
            "16        17    terong_lalap               2\n",
            "17        18    terong_sayur               4\n",
            "18        19   daun singkong               5\n",
            "19        20          pepaya               5\n",
            "20        21          rebung               4\n",
            "21        22         jengkol               5\n",
            "22        23           petai               5\n",
            "23        24           tomat               4\n",
            "24        25          jagung               3\n",
            "25        26          wortel               5\n",
            "26        27             kol               4\n",
            "27        28  kacang panjang               4\n",
            "28        29           lobak               5\n",
            "29        30     daun bawang               3\n",
            "30        31            labu               3\n",
            "31        32         paprika               3\n",
            "32        33        kecambah               4\n",
            "33        34           tauge               5\n",
            "34        35            acar               5\n",
            "35        36        daun sop               4\n",
            "36        37      daun katuk               4\n",
            "37        38      sawi hijau               5\n"
          ]
        },
        {
          "data": {
            "text/html": [
              "\n",
              "  <div id=\"df-e6d11e16-452c-495c-acb1-0b50b1ea6040\" class=\"colab-df-container\">\n",
              "    <div>\n",
              "<style scoped>\n",
              "    .dataframe tbody tr th:only-of-type {\n",
              "        vertical-align: middle;\n",
              "    }\n",
              "\n",
              "    .dataframe tbody tr th {\n",
              "        vertical-align: top;\n",
              "    }\n",
              "\n",
              "    .dataframe thead th {\n",
              "        text-align: right;\n",
              "    }\n",
              "</style>\n",
              "<table border=\"1\" class=\"dataframe\">\n",
              "  <thead>\n",
              "    <tr style=\"text-align: right;\">\n",
              "      <th></th>\n",
              "      <th>id_sayur</th>\n",
              "      <th>nama_sayur</th>\n",
              "      <th>rating_peminat</th>\n",
              "    </tr>\n",
              "  </thead>\n",
              "  <tbody>\n",
              "    <tr>\n",
              "      <th>0</th>\n",
              "      <td>1</td>\n",
              "      <td>bayam</td>\n",
              "      <td>5</td>\n",
              "    </tr>\n",
              "    <tr>\n",
              "      <th>1</th>\n",
              "      <td>2</td>\n",
              "      <td>brokoli</td>\n",
              "      <td>2</td>\n",
              "    </tr>\n",
              "    <tr>\n",
              "      <th>2</th>\n",
              "      <td>3</td>\n",
              "      <td>buncis</td>\n",
              "      <td>4</td>\n",
              "    </tr>\n",
              "    <tr>\n",
              "      <th>3</th>\n",
              "      <td>4</td>\n",
              "      <td>caisin</td>\n",
              "      <td>4</td>\n",
              "    </tr>\n",
              "    <tr>\n",
              "      <th>4</th>\n",
              "      <td>5</td>\n",
              "      <td>gambas</td>\n",
              "      <td>3</td>\n",
              "    </tr>\n",
              "  </tbody>\n",
              "</table>\n",
              "</div>\n",
              "    <div class=\"colab-df-buttons\">\n",
              "\n",
              "  <div class=\"colab-df-container\">\n",
              "    <button class=\"colab-df-convert\" onclick=\"convertToInteractive('df-e6d11e16-452c-495c-acb1-0b50b1ea6040')\"\n",
              "            title=\"Convert this dataframe to an interactive table.\"\n",
              "            style=\"display:none;\">\n",
              "\n",
              "  <svg xmlns=\"http://www.w3.org/2000/svg\" height=\"24px\" viewBox=\"0 -960 960 960\">\n",
              "    <path d=\"M120-120v-720h720v720H120Zm60-500h600v-160H180v160Zm220 220h160v-160H400v160Zm0 220h160v-160H400v160ZM180-400h160v-160H180v160Zm440 0h160v-160H620v160ZM180-180h160v-160H180v160Zm440 0h160v-160H620v160Z\"/>\n",
              "  </svg>\n",
              "    </button>\n",
              "\n",
              "  <style>\n",
              "    .colab-df-container {\n",
              "      display:flex;\n",
              "      gap: 12px;\n",
              "    }\n",
              "\n",
              "    .colab-df-convert {\n",
              "      background-color: #E8F0FE;\n",
              "      border: none;\n",
              "      border-radius: 50%;\n",
              "      cursor: pointer;\n",
              "      display: none;\n",
              "      fill: #1967D2;\n",
              "      height: 32px;\n",
              "      padding: 0 0 0 0;\n",
              "      width: 32px;\n",
              "    }\n",
              "\n",
              "    .colab-df-convert:hover {\n",
              "      background-color: #E2EBFA;\n",
              "      box-shadow: 0px 1px 2px rgba(60, 64, 67, 0.3), 0px 1px 3px 1px rgba(60, 64, 67, 0.15);\n",
              "      fill: #174EA6;\n",
              "    }\n",
              "\n",
              "    .colab-df-buttons div {\n",
              "      margin-bottom: 4px;\n",
              "    }\n",
              "\n",
              "    [theme=dark] .colab-df-convert {\n",
              "      background-color: #3B4455;\n",
              "      fill: #D2E3FC;\n",
              "    }\n",
              "\n",
              "    [theme=dark] .colab-df-convert:hover {\n",
              "      background-color: #434B5C;\n",
              "      box-shadow: 0px 1px 3px 1px rgba(0, 0, 0, 0.15);\n",
              "      filter: drop-shadow(0px 1px 2px rgba(0, 0, 0, 0.3));\n",
              "      fill: #FFFFFF;\n",
              "    }\n",
              "  </style>\n",
              "\n",
              "    <script>\n",
              "      const buttonEl =\n",
              "        document.querySelector('#df-e6d11e16-452c-495c-acb1-0b50b1ea6040 button.colab-df-convert');\n",
              "      buttonEl.style.display =\n",
              "        google.colab.kernel.accessAllowed ? 'block' : 'none';\n",
              "\n",
              "      async function convertToInteractive(key) {\n",
              "        const element = document.querySelector('#df-e6d11e16-452c-495c-acb1-0b50b1ea6040');\n",
              "        const dataTable =\n",
              "          await google.colab.kernel.invokeFunction('convertToInteractive',\n",
              "                                                    [key], {});\n",
              "        if (!dataTable) return;\n",
              "\n",
              "        const docLinkHtml = 'Like what you see? Visit the ' +\n",
              "          '<a target=\"_blank\" href=https://colab.research.google.com/notebooks/data_table.ipynb>data table notebook</a>'\n",
              "          + ' to learn more about interactive tables.';\n",
              "        element.innerHTML = '';\n",
              "        dataTable['output_type'] = 'display_data';\n",
              "        await google.colab.output.renderOutput(dataTable, element);\n",
              "        const docLink = document.createElement('div');\n",
              "        docLink.innerHTML = docLinkHtml;\n",
              "        element.appendChild(docLink);\n",
              "      }\n",
              "    </script>\n",
              "  </div>\n",
              "\n",
              "\n",
              "<div id=\"df-0627abe4-c813-48e4-8648-10815c15e74c\">\n",
              "  <button class=\"colab-df-quickchart\" onclick=\"quickchart('df-0627abe4-c813-48e4-8648-10815c15e74c')\"\n",
              "            title=\"Suggest charts\"\n",
              "            style=\"display:none;\">\n",
              "\n",
              "<svg xmlns=\"http://www.w3.org/2000/svg\" height=\"24px\"viewBox=\"0 0 24 24\"\n",
              "     width=\"24px\">\n",
              "    <g>\n",
              "        <path d=\"M19 3H5c-1.1 0-2 .9-2 2v14c0 1.1.9 2 2 2h14c1.1 0 2-.9 2-2V5c0-1.1-.9-2-2-2zM9 17H7v-7h2v7zm4 0h-2V7h2v10zm4 0h-2v-4h2v4z\"/>\n",
              "    </g>\n",
              "</svg>\n",
              "  </button>\n",
              "\n",
              "<style>\n",
              "  .colab-df-quickchart {\n",
              "      --bg-color: #E8F0FE;\n",
              "      --fill-color: #1967D2;\n",
              "      --hover-bg-color: #E2EBFA;\n",
              "      --hover-fill-color: #174EA6;\n",
              "      --disabled-fill-color: #AAA;\n",
              "      --disabled-bg-color: #DDD;\n",
              "  }\n",
              "\n",
              "  [theme=dark] .colab-df-quickchart {\n",
              "      --bg-color: #3B4455;\n",
              "      --fill-color: #D2E3FC;\n",
              "      --hover-bg-color: #434B5C;\n",
              "      --hover-fill-color: #FFFFFF;\n",
              "      --disabled-bg-color: #3B4455;\n",
              "      --disabled-fill-color: #666;\n",
              "  }\n",
              "\n",
              "  .colab-df-quickchart {\n",
              "    background-color: var(--bg-color);\n",
              "    border: none;\n",
              "    border-radius: 50%;\n",
              "    cursor: pointer;\n",
              "    display: none;\n",
              "    fill: var(--fill-color);\n",
              "    height: 32px;\n",
              "    padding: 0;\n",
              "    width: 32px;\n",
              "  }\n",
              "\n",
              "  .colab-df-quickchart:hover {\n",
              "    background-color: var(--hover-bg-color);\n",
              "    box-shadow: 0 1px 2px rgba(60, 64, 67, 0.3), 0 1px 3px 1px rgba(60, 64, 67, 0.15);\n",
              "    fill: var(--button-hover-fill-color);\n",
              "  }\n",
              "\n",
              "  .colab-df-quickchart-complete:disabled,\n",
              "  .colab-df-quickchart-complete:disabled:hover {\n",
              "    background-color: var(--disabled-bg-color);\n",
              "    fill: var(--disabled-fill-color);\n",
              "    box-shadow: none;\n",
              "  }\n",
              "\n",
              "  .colab-df-spinner {\n",
              "    border: 2px solid var(--fill-color);\n",
              "    border-color: transparent;\n",
              "    border-bottom-color: var(--fill-color);\n",
              "    animation:\n",
              "      spin 1s steps(1) infinite;\n",
              "  }\n",
              "\n",
              "  @keyframes spin {\n",
              "    0% {\n",
              "      border-color: transparent;\n",
              "      border-bottom-color: var(--fill-color);\n",
              "      border-left-color: var(--fill-color);\n",
              "    }\n",
              "    20% {\n",
              "      border-color: transparent;\n",
              "      border-left-color: var(--fill-color);\n",
              "      border-top-color: var(--fill-color);\n",
              "    }\n",
              "    30% {\n",
              "      border-color: transparent;\n",
              "      border-left-color: var(--fill-color);\n",
              "      border-top-color: var(--fill-color);\n",
              "      border-right-color: var(--fill-color);\n",
              "    }\n",
              "    40% {\n",
              "      border-color: transparent;\n",
              "      border-right-color: var(--fill-color);\n",
              "      border-top-color: var(--fill-color);\n",
              "    }\n",
              "    60% {\n",
              "      border-color: transparent;\n",
              "      border-right-color: var(--fill-color);\n",
              "    }\n",
              "    80% {\n",
              "      border-color: transparent;\n",
              "      border-right-color: var(--fill-color);\n",
              "      border-bottom-color: var(--fill-color);\n",
              "    }\n",
              "    90% {\n",
              "      border-color: transparent;\n",
              "      border-bottom-color: var(--fill-color);\n",
              "    }\n",
              "  }\n",
              "</style>\n",
              "\n",
              "  <script>\n",
              "    async function quickchart(key) {\n",
              "      const quickchartButtonEl =\n",
              "        document.querySelector('#' + key + ' button');\n",
              "      quickchartButtonEl.disabled = true;  // To prevent multiple clicks.\n",
              "      quickchartButtonEl.classList.add('colab-df-spinner');\n",
              "      try {\n",
              "        const charts = await google.colab.kernel.invokeFunction(\n",
              "            'suggestCharts', [key], {});\n",
              "      } catch (error) {\n",
              "        console.error('Error during call to suggestCharts:', error);\n",
              "      }\n",
              "      quickchartButtonEl.classList.remove('colab-df-spinner');\n",
              "      quickchartButtonEl.classList.add('colab-df-quickchart-complete');\n",
              "    }\n",
              "    (() => {\n",
              "      let quickchartButtonEl =\n",
              "        document.querySelector('#df-0627abe4-c813-48e4-8648-10815c15e74c button');\n",
              "      quickchartButtonEl.style.display =\n",
              "        google.colab.kernel.accessAllowed ? 'block' : 'none';\n",
              "    })();\n",
              "  </script>\n",
              "</div>\n",
              "    </div>\n",
              "  </div>\n"
            ],
            "text/plain": [
              "   id_sayur nama_sayur  rating_peminat\n",
              "0         1      bayam               5\n",
              "1         2    brokoli               2\n",
              "2         3     buncis               4\n",
              "3         4     caisin               4\n",
              "4         5     gambas               3"
            ]
          },
          "execution_count": 5,
          "metadata": {},
          "output_type": "execute_result"
        }
      ],
      "source": [
        "import io\n",
        "df = pd.read_csv(io.StringIO(filenya['gotani_capstone - Sheet1 (1).csv'].decode('utf-8')))\n",
        "print(df)\n",
        "df.head()"
      ]
    },
    {
      "cell_type": "code",
      "execution_count": null,
      "metadata": {
        "colab": {
          "base_uri": "https://localhost:8080/",
          "height": 228
        },
        "id": "g3GS9P4q5Jk4",
        "outputId": "54d65062-0519-47f3-a2f0-0ba984eda125"
      },
      "outputs": [
        {
          "ename": "NameError",
          "evalue": "ignored",
          "output_type": "error",
          "traceback": [
            "\u001b[0;31m---------------------------------------------------------------------------\u001b[0m",
            "\u001b[0;31mNameError\u001b[0m                                 Traceback (most recent call last)",
            "\u001b[0;32m<ipython-input-6-7bbffd0feb85>\u001b[0m in \u001b[0;36m<cell line: 3>\u001b[0;34m()\u001b[0m\n\u001b[1;32m      1\u001b[0m \u001b[0;31m#Menyimpan variabel df kedalam variabel data sebagai data traning\u001b[0m\u001b[0;34m\u001b[0m\u001b[0;34m\u001b[0m\u001b[0m\n\u001b[1;32m      2\u001b[0m \u001b[0;34m\u001b[0m\u001b[0m\n\u001b[0;32m----> 3\u001b[0;31m \u001b[0mdata\u001b[0m \u001b[0;34m=\u001b[0m \u001b[0mDataset\u001b[0m\u001b[0;34m.\u001b[0m\u001b[0mload_from_df\u001b[0m\u001b[0;34m(\u001b[0m\u001b[0mdf\u001b[0m\u001b[0;34m,\u001b[0m \u001b[0mReader\u001b[0m\u001b[0;34m(\u001b[0m\u001b[0;34m)\u001b[0m\u001b[0;34m)\u001b[0m\u001b[0;34m\u001b[0m\u001b[0;34m\u001b[0m\u001b[0m\n\u001b[0m\u001b[1;32m      4\u001b[0m \u001b[0mtrainset\u001b[0m \u001b[0;34m=\u001b[0m \u001b[0mdata\u001b[0m\u001b[0;34m.\u001b[0m\u001b[0mbuild_full_trainset\u001b[0m\u001b[0;34m(\u001b[0m\u001b[0;34m)\u001b[0m\u001b[0;34m\u001b[0m\u001b[0;34m\u001b[0m\u001b[0m\n",
            "\u001b[0;31mNameError\u001b[0m: name 'Dataset' is not defined"
          ]
        }
      ],
      "source": [
        "#Menyimpan variabel df kedalam variabel data sebagai data traning\n",
        "\n",
        "data = Dataset.load_from_df(df, Reader())\n",
        "trainset = data.build_full_trainset()"
      ]
    },
    {
      "cell_type": "code",
      "execution_count": null,
      "metadata": {
        "colab": {
          "base_uri": "https://localhost:8080/"
        },
        "id": "vClXdbO65K1V",
        "outputId": "6785f272-9743-4ca9-b768-0386a4aedbbf"
      },
      "outputs": [
        {
          "data": {
            "text/plain": [
              "<surprise.prediction_algorithms.matrix_factorization.SVD at 0x7a7359f2ffd0>"
            ]
          },
          "execution_count": 8,
          "metadata": {},
          "output_type": "execute_result"
        }
      ],
      "source": [
        "# Menggunakan Teknik Dimensionality reducation dengan model SDV dari Scikit surprise\n",
        "\n",
        "model = SVD()\n",
        "model.fit(trainset)"
      ]
    },
    {
      "cell_type": "code",
      "execution_count": null,
      "metadata": {
        "colab": {
          "base_uri": "https://localhost:8080/"
        },
        "id": "411Z623y5L_Q",
        "outputId": "f9675e64-1511-47a6-81b9-3fb11f438385"
      },
      "outputs": [
        {
          "data": {
            "text/plain": [
              "Prediction(uid=2, iid='bayam', r_ui=None, est=3.966926434972351, details={'was_impossible': False})"
            ]
          },
          "execution_count": 9,
          "metadata": {},
          "output_type": "execute_result"
        }
      ],
      "source": [
        "# memprediksi dengan mengambil sampel dari dataset, rating peminat\n",
        "\n",
        "model.predict(2, \"bayam\")"
      ]
    },
    {
      "cell_type": "markdown",
      "metadata": {
        "id": "pusR7EiqRF2b"
      },
      "source": []
    },
    {
      "cell_type": "code",
      "execution_count": null,
      "metadata": {
        "id": "0w3sPUpD9BcE"
      },
      "outputs": [],
      "source": [
        "id_sayur = 2"
      ]
    },
    {
      "cell_type": "code",
      "execution_count": null,
      "metadata": {
        "colab": {
          "base_uri": "https://localhost:8080/"
        },
        "id": "bETpKID_9G6n",
        "outputId": "77e5f8d6-28da-4471-c3a7-528ab4614425"
      },
      "outputs": [
        {
          "data": {
            "text/plain": [
              "array(['bayam', 'brokoli', 'buncis', 'caisin', 'gambas', 'genjer',\n",
              "       'jamur', 'kangkung', 'kentang', 'kubis', 'labu siam', 'mentimun',\n",
              "       'nangka', 'pare', 'rebung', 'sawi putih', 'terong_lalap',\n",
              "       'terong_sayur', 'daun singkong', 'pepaya', 'jengkol', 'petai',\n",
              "       'tomat', 'jagung', 'wortel', 'kol', 'kacang panjang', 'lobak',\n",
              "       'daun bawang', 'labu', 'paprika', 'kecambah', 'tauge', 'acar',\n",
              "       'daun sop', 'daun katuk', 'sawi hijau'], dtype=object)"
            ]
          },
          "execution_count": 11,
          "metadata": {},
          "output_type": "execute_result"
        }
      ],
      "source": [
        "all_nama_sayur = df.nama_sayur.unique()\n",
        "all_nama_sayur"
      ]
    },
    {
      "cell_type": "code",
      "execution_count": null,
      "metadata": {
        "colab": {
          "base_uri": "https://localhost:8080/"
        },
        "id": "hur9TyX6SDFM",
        "outputId": "019c0afb-b041-479d-a13b-10fb63b6272d"
      },
      "outputs": [
        {
          "data": {
            "text/plain": [
              "1    brokoli\n",
              "Name: nama_sayur, dtype: object"
            ]
          },
          "execution_count": 25,
          "metadata": {},
          "output_type": "execute_result"
        }
      ],
      "source": [
        "buying = df[df.id_sayur == 2].nama_sayur\n",
        "buying.head()"
      ]
    },
    {
      "cell_type": "markdown",
      "metadata": {
        "id": "A5TqHEm6RXtU"
      },
      "source": []
    },
    {
      "cell_type": "code",
      "execution_count": null,
      "metadata": {
        "colab": {
          "base_uri": "https://localhost:8080/"
        },
        "id": "BpJokl6t-bal",
        "outputId": "75999ae7-b0a5-4ec9-ae7a-b1aa843156a2"
      },
      "outputs": [
        {
          "data": {
            "text/plain": [
              "['bayam',\n",
              " 'brokoli',\n",
              " 'buncis',\n",
              " 'caisin',\n",
              " 'gambas',\n",
              " 'genjer',\n",
              " 'jamur',\n",
              " 'kangkung',\n",
              " 'kentang',\n",
              " 'kubis',\n",
              " 'labu siam',\n",
              " 'mentimun',\n",
              " 'nangka',\n",
              " 'pare',\n",
              " 'rebung',\n",
              " 'sawi putih',\n",
              " 'terong_lalap',\n",
              " 'terong_sayur',\n",
              " 'daun singkong',\n",
              " 'pepaya',\n",
              " 'jengkol',\n",
              " 'petai',\n",
              " 'tomat',\n",
              " 'jagung',\n",
              " 'wortel',\n",
              " 'kol',\n",
              " 'kacang panjang',\n",
              " 'lobak',\n",
              " 'daun bawang',\n",
              " 'labu',\n",
              " 'paprika',\n",
              " 'kecambah',\n",
              " 'tauge',\n",
              " 'acar',\n",
              " 'daun sop',\n",
              " 'daun katuk',\n",
              " 'sawi hijau']"
            ]
          },
          "execution_count": 26,
          "metadata": {},
          "output_type": "execute_result"
        }
      ],
      "source": [
        "not_buying = [nama_sayur for nama_sayur in all_nama_sayur if nama_sayur not in buying]\n",
        "not_buying"
      ]
    },
    {
      "cell_type": "code",
      "execution_count": null,
      "metadata": {
        "colab": {
          "base_uri": "https://localhost:8080/"
        },
        "id": "zyEyNwYe_ntD",
        "outputId": "63953aec-e59f-46d0-caf3-2891e5be5215"
      },
      "outputs": [
        {
          "data": {
            "text/plain": [
              "[3.966926434972351,\n",
              " 3.394680359954333,\n",
              " 4.0094955202828935,\n",
              " 3.909384950529227,\n",
              " 3.9408325881915625,\n",
              " 4.110119314626226,\n",
              " 4.068596479942472,\n",
              " 3.9978839573884133,\n",
              " 4.117275204645176,\n",
              " 4.212190990538422,\n",
              " 3.8194386600518055,\n",
              " 3.898805045824714,\n",
              " 4.084270896077362,\n",
              " 4.155724794318338,\n",
              " 3.955290100645059,\n",
              " 4.148100750200711,\n",
              " 3.760263866228896,\n",
              " 4.086207898529974,\n",
              " 4.031115990230786,\n",
              " 4.228446702710033,\n",
              " 4.059879957313776,\n",
              " 4.274704328939709,\n",
              " 3.914774861689947,\n",
              " 3.7894187774832244,\n",
              " 4.054832916306912,\n",
              " 3.971540258469594,\n",
              " 4.298020317495411,\n",
              " 4.152089077458696,\n",
              " 3.8111022162099757,\n",
              " 4.049245047106909,\n",
              " 3.9036813869971936,\n",
              " 4.131329328767638,\n",
              " 3.9256105785788855,\n",
              " 3.875602328010245,\n",
              " 3.82461362367385,\n",
              " 4.027338000811324,\n",
              " 4.168386610151221]"
            ]
          },
          "execution_count": 27,
          "metadata": {},
          "output_type": "execute_result"
        }
      ],
      "source": [
        "score = [model.predict(id_sayur, nama_sayur).est for nama_sayur in not_buying]\n",
        "score"
      ]
    },
    {
      "cell_type": "code",
      "execution_count": null,
      "metadata": {
        "id": "qCxNjXUHAkbD"
      },
      "outputs": [],
      "source": [
        "class RecommenderSystem:\n",
        "    def __init__(self, data):\n",
        "        self.df = pd.read_csv(data)\n",
        "        self.all_nama_sayur = self.df.nama_sayur.unique()\n",
        "        self.model = None\n",
        "\n",
        "    def fit(self):\n",
        "        data = Dataset.load_from_df(self.df, Reader())\n",
        "        trainset = data.build_full_trainset()\n",
        "\n",
        "        self.model = SVD()\n",
        "        self.model.fit(trainset)\n",
        "\n",
        "    def recommend(self, id_sayur, topk=10):\n",
        "        buying = self.df[self.df.id_sayur == id_sayur].nama_sayur\n",
        "        not_buying = [nama_sayur for nama_sayur in self.all_nama_sayur if nama_sayur not in buying]\n",
        "        score = [self.model.predict(id_sayur, nama_sayur).est for nama_sayur in not_buying]\n",
        "\n",
        "        result = pd.DataFrame({\"nama_sayur\": not_buying, \"pred_score\": score})\n",
        "        result.sort_values(\"pred_score\", ascending=False, inplace=True)\n",
        "\n",
        "        return result.head(topk)\n"
      ]
    },
    {
      "cell_type": "code",
      "execution_count": null,
      "metadata": {
        "id": "9jlDJOOgDMH_"
      },
      "outputs": [],
      "source": [
        "recsys = RecommenderSystem(\"gotani_capstone - Sheet1 (1).csv\")\n",
        "recsys.fit()"
      ]
    },
    {
      "cell_type": "code",
      "execution_count": null,
      "metadata": {
        "colab": {
          "base_uri": "https://localhost:8080/",
          "height": 176
        },
        "id": "tvcbxBJWGsTi",
        "outputId": "1bd205fa-1f32-4068-86a2-a7d12c271eee"
      },
      "outputs": [
        {
          "ename": "NameError",
          "evalue": "ignored",
          "output_type": "error",
          "traceback": [
            "\u001b[0;31m---------------------------------------------------------------------------\u001b[0m",
            "\u001b[0;31mNameError\u001b[0m                                 Traceback (most recent call last)",
            "\u001b[0;32m<ipython-input-1-3803b7b930c1>\u001b[0m in \u001b[0;36m<cell line: 1>\u001b[0;34m()\u001b[0m\n\u001b[0;32m----> 1\u001b[0;31m \u001b[0mrecsys\u001b[0m\u001b[0;34m.\u001b[0m\u001b[0mrecommend\u001b[0m\u001b[0;34m(\u001b[0m\u001b[0mid_sayur\u001b[0m\u001b[0;34m=\u001b[0m\u001b[0;36m3\u001b[0m\u001b[0;34m)\u001b[0m\u001b[0;34m\u001b[0m\u001b[0;34m\u001b[0m\u001b[0m\n\u001b[0m",
            "\u001b[0;31mNameError\u001b[0m: name 'recsys' is not defined"
          ]
        }
      ],
      "source": [
        "recsys.recommend(id_sayur=3)\n"
      ]
    },
    {
      "cell_type": "code",
      "execution_count": null,
      "metadata": {
        "colab": {
          "base_uri": "https://localhost:8080/",
          "height": 256
        },
        "id": "V80kWXDLbBbH",
        "outputId": "f7219e1b-bebc-4ca6-a1e6-32287c1e8ca9"
      },
      "outputs": [
        {
          "ename": "NameError",
          "evalue": "ignored",
          "output_type": "error",
          "traceback": [
            "\u001b[0;31m---------------------------------------------------------------------------\u001b[0m",
            "\u001b[0;31mNameError\u001b[0m                                 Traceback (most recent call last)",
            "\u001b[0;32m<ipython-input-1-db98addb633d>\u001b[0m in \u001b[0;36m<cell line: 9>\u001b[0;34m()\u001b[0m\n\u001b[1;32m      7\u001b[0m \u001b[0;34m\u001b[0m\u001b[0m\n\u001b[1;32m      8\u001b[0m \u001b[0;31m# Mengonversi tipe data objek menjadi tipe data yang dapat direpresentasikan dalam format H5\u001b[0m\u001b[0;34m\u001b[0m\u001b[0;34m\u001b[0m\u001b[0m\n\u001b[0;32m----> 9\u001b[0;31m \u001b[0mrecommendations\u001b[0m\u001b[0;34m[\u001b[0m\u001b[0;34m'nama_sayur'\u001b[0m\u001b[0;34m]\u001b[0m \u001b[0;34m=\u001b[0m \u001b[0mrecommendations\u001b[0m\u001b[0;34m[\u001b[0m\u001b[0;34m'nama_sayur'\u001b[0m\u001b[0;34m]\u001b[0m\u001b[0;34m.\u001b[0m\u001b[0mastype\u001b[0m\u001b[0;34m(\u001b[0m\u001b[0mstr\u001b[0m\u001b[0;34m)\u001b[0m  \u001b[0;31m# Misalkan kolom 'nama_sayur' adalah string\u001b[0m\u001b[0;34m\u001b[0m\u001b[0;34m\u001b[0m\u001b[0m\n\u001b[0m\u001b[1;32m     10\u001b[0m \u001b[0;34m\u001b[0m\u001b[0m\n\u001b[1;32m     11\u001b[0m \u001b[0;31m# Simpan DataFrame hasil rekomendasi ke dalam file H5\u001b[0m\u001b[0;34m\u001b[0m\u001b[0;34m\u001b[0m\u001b[0m\n",
            "\u001b[0;31mNameError\u001b[0m: name 'recommendations' is not defined"
          ]
        }
      ],
      "source": [
        "import h5py\n",
        "import pandas as pd\n",
        "import numpy as np\n",
        "\n",
        "# Contoh hasil rekomendasi\n",
        "# recommendations = recsys.recommend(id_sayur, topk)  # Pastikan Anda memiliki DataFrame recommendations\n",
        "\n",
        "# Mengonversi tipe data objek menjadi tipe data yang dapat direpresentasikan dalam format H5\n",
        "recommendations['nama_sayur'] = recommendations['nama_sayur'].astype(str)  # Misalkan kolom 'nama_sayur' adalah string\n",
        "\n",
        "# Simpan DataFrame hasil rekomendasi ke dalam file H5\n",
        "with h5py.File('/content/drive/MyDrive/recommendations.h5', 'w') as hf:\n",
        "    # Simpan kolom nama_sayur sebagai dataset terpisah\n",
        "    hf.create_dataset('nama_sayur', data=recommendations['nama_sayur'].values.astype('S'))\n",
        "\n",
        "    # Simpan kolom pred_score sebagai dataset terpisah\n",
        "    hf.create_dataset('pred_score', data=recommendations['pred_score'].values)\n"
      ]
    },
    {
      "cell_type": "code",
      "execution_count": null,
      "metadata": {
        "id": "3-Y-WUItnql8"
      },
      "outputs": [],
      "source": [
        "import tensorflow as tf\n",
        "from tensorflow.keras.preprocessing.image import ImageDataGenerator\n",
        "import os\n",
        "import tensorflow_hub as hub\n",
        "from tensorflow.keras.models import Sequential\n",
        "from tensorflow.keras.layers import Dense\n",
        "from tensorflow.keras.optimizers import Adam\n",
        "from tensorflow.keras.losses import CategoricalCrossentropy\n",
        "import tensorboard\n",
        "from keras.callbacks import Callback, TensorBoard\n",
        "import time\n",
        "import numpy as np\n",
        "import matplotlib.pyplot as plt"
      ]
    },
    {
      "cell_type": "markdown",
      "metadata": {
        "id": "-qd6FODQDbBO"
      },
      "source": []
    },
    {
      "cell_type": "markdown",
      "metadata": {
        "id": "8b3mzZxZnuzO"
      },
      "source": [
        "2. jalankan dataset"
      ]
    },
    {
      "cell_type": "code",
      "execution_count": null,
      "metadata": {
        "colab": {
          "base_uri": "https://localhost:8080/",
          "height": 36
        },
        "id": "MQPk3hE1bSPH",
        "outputId": "3ab799ef-2553-4250-ae7a-581e2bc7e4fd"
      },
      "outputs": [
        {
          "data": {
            "application/vnd.google.colaboratory.intrinsic+json": {
              "type": "string"
            },
            "text/plain": [
              "'archive/New Plant Diseases Dataset(Augmented)/New Plant Diseases Dataset(Augmented)/train'"
            ]
          },
          "execution_count": 2,
          "metadata": {},
          "output_type": "execute_result"
        }
      ],
      "source": [
        "#data\n",
        "data = \"archive/New Plant Diseases Dataset(Augmented)/New Plant Diseases Dataset(Augmented)\"\n",
        "train_dir = data + \"/train\"\n",
        "valid_dir = data + \"/valid\"\n",
        "\n",
        "train_dir"
      ]
    },
    {
      "cell_type": "code",
      "execution_count": null,
      "metadata": {
        "colab": {
          "base_uri": "https://localhost:8080/",
          "height": 427
        },
        "id": "GRH9asmgbaxL",
        "outputId": "8fcd9709-359b-405e-a6f9-1a80ba7fd1e8"
      },
      "outputs": [
        {
          "ename": "FileNotFoundError",
          "evalue": "ignored",
          "output_type": "error",
          "traceback": [
            "\u001b[0;31m---------------------------------------------------------------------------\u001b[0m",
            "\u001b[0;31mFileNotFoundError\u001b[0m                         Traceback (most recent call last)",
            "\u001b[0;32m<ipython-input-3-ed6902c99ddf>\u001b[0m in \u001b[0;36m<cell line: 10>\u001b[0;34m()\u001b[0m\n\u001b[1;32m      8\u001b[0m )\n\u001b[1;32m      9\u001b[0m \u001b[0;31m# data\u001b[0m\u001b[0;34m\u001b[0m\u001b[0;34m\u001b[0m\u001b[0m\n\u001b[0;32m---> 10\u001b[0;31m train_generator = train_datagen.flow_from_directory(\n\u001b[0m\u001b[1;32m     11\u001b[0m     \u001b[0mtrain_dir\u001b[0m\u001b[0;34m,\u001b[0m\u001b[0;34m\u001b[0m\u001b[0;34m\u001b[0m\u001b[0m\n\u001b[1;32m     12\u001b[0m     \u001b[0mtarget_size\u001b[0m \u001b[0;34m=\u001b[0m \u001b[0;34m(\u001b[0m\u001b[0;36m224\u001b[0m\u001b[0;34m,\u001b[0m \u001b[0;36m224\u001b[0m\u001b[0;34m)\u001b[0m\u001b[0;34m,\u001b[0m\u001b[0;34m\u001b[0m\u001b[0;34m\u001b[0m\u001b[0m\n",
            "\u001b[0;32m/usr/local/lib/python3.10/dist-packages/keras/src/preprocessing/image.py\u001b[0m in \u001b[0;36mflow_from_directory\u001b[0;34m(self, directory, target_size, color_mode, classes, class_mode, batch_size, shuffle, seed, save_to_dir, save_prefix, save_format, follow_links, subset, interpolation, keep_aspect_ratio)\u001b[0m\n\u001b[1;32m   1647\u001b[0m             \u001b[0;32mand\u001b[0m\u001b[0;31m \u001b[0m\u001b[0;31m`\u001b[0m\u001b[0my\u001b[0m\u001b[0;31m`\u001b[0m \u001b[0;32mis\u001b[0m \u001b[0ma\u001b[0m \u001b[0mnumpy\u001b[0m \u001b[0marray\u001b[0m \u001b[0mof\u001b[0m \u001b[0mcorresponding\u001b[0m \u001b[0mlabels\u001b[0m\u001b[0;34m.\u001b[0m\u001b[0;34m\u001b[0m\u001b[0;34m\u001b[0m\u001b[0m\n\u001b[1;32m   1648\u001b[0m         \"\"\"\n\u001b[0;32m-> 1649\u001b[0;31m         return DirectoryIterator(\n\u001b[0m\u001b[1;32m   1650\u001b[0m             \u001b[0mdirectory\u001b[0m\u001b[0;34m,\u001b[0m\u001b[0;34m\u001b[0m\u001b[0;34m\u001b[0m\u001b[0m\n\u001b[1;32m   1651\u001b[0m             \u001b[0mself\u001b[0m\u001b[0;34m,\u001b[0m\u001b[0;34m\u001b[0m\u001b[0;34m\u001b[0m\u001b[0m\n",
            "\u001b[0;32m/usr/local/lib/python3.10/dist-packages/keras/src/preprocessing/image.py\u001b[0m in \u001b[0;36m__init__\u001b[0;34m(self, directory, image_data_generator, target_size, color_mode, classes, class_mode, batch_size, shuffle, seed, data_format, save_to_dir, save_prefix, save_format, follow_links, subset, interpolation, keep_aspect_ratio, dtype)\u001b[0m\n\u001b[1;32m    561\u001b[0m         \u001b[0;32mif\u001b[0m \u001b[0;32mnot\u001b[0m \u001b[0mclasses\u001b[0m\u001b[0;34m:\u001b[0m\u001b[0;34m\u001b[0m\u001b[0;34m\u001b[0m\u001b[0m\n\u001b[1;32m    562\u001b[0m             \u001b[0mclasses\u001b[0m \u001b[0;34m=\u001b[0m \u001b[0;34m[\u001b[0m\u001b[0;34m]\u001b[0m\u001b[0;34m\u001b[0m\u001b[0;34m\u001b[0m\u001b[0m\n\u001b[0;32m--> 563\u001b[0;31m             \u001b[0;32mfor\u001b[0m \u001b[0msubdir\u001b[0m \u001b[0;32min\u001b[0m \u001b[0msorted\u001b[0m\u001b[0;34m(\u001b[0m\u001b[0mos\u001b[0m\u001b[0;34m.\u001b[0m\u001b[0mlistdir\u001b[0m\u001b[0;34m(\u001b[0m\u001b[0mdirectory\u001b[0m\u001b[0;34m)\u001b[0m\u001b[0;34m)\u001b[0m\u001b[0;34m:\u001b[0m\u001b[0;34m\u001b[0m\u001b[0;34m\u001b[0m\u001b[0m\n\u001b[0m\u001b[1;32m    564\u001b[0m                 \u001b[0;32mif\u001b[0m \u001b[0mos\u001b[0m\u001b[0;34m.\u001b[0m\u001b[0mpath\u001b[0m\u001b[0;34m.\u001b[0m\u001b[0misdir\u001b[0m\u001b[0;34m(\u001b[0m\u001b[0mos\u001b[0m\u001b[0;34m.\u001b[0m\u001b[0mpath\u001b[0m\u001b[0;34m.\u001b[0m\u001b[0mjoin\u001b[0m\u001b[0;34m(\u001b[0m\u001b[0mdirectory\u001b[0m\u001b[0;34m,\u001b[0m \u001b[0msubdir\u001b[0m\u001b[0;34m)\u001b[0m\u001b[0;34m)\u001b[0m\u001b[0;34m:\u001b[0m\u001b[0;34m\u001b[0m\u001b[0;34m\u001b[0m\u001b[0m\n\u001b[1;32m    565\u001b[0m                     \u001b[0mclasses\u001b[0m\u001b[0;34m.\u001b[0m\u001b[0mappend\u001b[0m\u001b[0;34m(\u001b[0m\u001b[0msubdir\u001b[0m\u001b[0;34m)\u001b[0m\u001b[0;34m\u001b[0m\u001b[0;34m\u001b[0m\u001b[0m\n",
            "\u001b[0;31mFileNotFoundError\u001b[0m: [Errno 2] No such file or directory: 'archive/New Plant Diseases Dataset(Augmented)/New Plant Diseases Dataset(Augmented)/train'"
          ]
        }
      ],
      "source": [
        "#split data\n",
        "train_datagen = ImageDataGenerator(\n",
        "    rescale = 1./255\n",
        ")\n",
        "valid_datagen = ImageDataGenerator(\n",
        "    rescale = 1./255,\n",
        "    validation_split = 0.2\n",
        ")\n",
        "# data\n",
        "train_generator = train_datagen.flow_from_directory(\n",
        "    train_dir,\n",
        "    target_size = (224, 224),\n",
        "    batch_size = 32,\n",
        "    shuffle = True,\n",
        "    seed = 64,\n",
        "    class_mode = \"categorical\"\n",
        ")\n",
        "\n",
        "test_generator = valid_datagen.flow_from_directory(\n",
        "    valid_dir,\n",
        "    target_size = (224, 224),\n",
        "    batch_size = 32,\n",
        "    shuffle = False,\n",
        "    # seed = 64,\n",
        "    class_mode = \"categorical\",\n",
        "    subset = \"training\"\n",
        ")\n",
        "\n",
        "valid_generator = valid_datagen.flow_from_directory(\n",
        "    valid_dir,\n",
        "    target_size = (224, 224),\n",
        "    batch_size = 32,\n",
        "    shuffle = True,\n",
        "    # seed = 64,\n",
        "    class_mode = \"categorical\",\n",
        "    subset = \"validation\"\n",
        ")"
      ]
    },
    {
      "cell_type": "code",
      "execution_count": null,
      "metadata": {
        "id": "W1PP2-Egbo9k"
      },
      "outputs": [],
      "source": [
        "# jumlah data\n",
        "classes = os.listdir(train_dir)\n",
        "print(classes), print(f\"jumlah class: {len(classes)}\")"
      ]
    },
    {
      "cell_type": "code",
      "execution_count": null,
      "metadata": {
        "id": "SaV2pvaTbuNy"
      },
      "outputs": [],
      "source": [
        "# jumlah tanaman dan penyakit\n",
        "plants = []\n",
        "diseases = 0\n",
        "\n",
        "for plant in classes:\n",
        "    if plant.split(\"___\")[0] not in plants:\n",
        "        plants.append(plant.split(\"___\")[0])\n",
        "    if plant.split(\"___\")[1] != 'healthy':\n",
        "        diseases += 1\n",
        "\n",
        "print(f\"nama pohon: {plants}\")\n",
        "print(\"jumlah plant:\", len(plants))\n",
        "print(\"jumlah disease:\", diseases )"
      ]
    },
    {
      "cell_type": "code",
      "execution_count": null,
      "metadata": {
        "id": "4vDOrH3Hb16h"
      },
      "outputs": [],
      "source": [
        "#hitung jumlah data\n",
        "class_count = train_generator.classes\n",
        "unique, count = np.unique(class_count, return_counts=True)\n",
        "# mapping\n",
        "class_count_dict = dict(zip(train_generator.class_indices, count))\n",
        "class_count_dict"
      ]
    }
  ],
  "metadata": {
    "colab": {
      "provenance": []
    },
    "kernelspec": {
      "display_name": "Python 3",
      "name": "python3"
    },
    "language_info": {
      "name": "python"
    }
  },
  "nbformat": 4,
  "nbformat_minor": 0
}